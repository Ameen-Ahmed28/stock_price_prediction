{
 "cells": [
  {
   "cell_type": "code",
   "execution_count": 26,
   "metadata": {},
   "outputs": [],
   "source": [
    "import pandas as pd\n",
    "import matplotlib.pyplot as plt\n",
    "import numpy as np\n",
    "import tensorflow as tf\n",
    "from tensorflow import keras\n",
    "import seaborn as sns\n",
    "import os\n",
    "from datetime import datetime\n",
    "\n",
    "import warnings\n",
    "warnings.filterwarnings(\"ignore\")\n"
   ]
  },
  {
   "cell_type": "code",
   "execution_count": 27,
   "metadata": {},
   "outputs": [],
   "source": [
    "import yfinance as yf\n",
    "import pandas as pd"
   ]
  },
  {
   "cell_type": "code",
   "execution_count": 28,
   "metadata": {},
   "outputs": [
    {
     "name": "stdout",
     "output_type": "stream",
     "text": [
      "[*********************100%%**********************]  1 of 1 completed\n"
     ]
    }
   ],
   "source": [
    "sp500=yf.download('SPY')"
   ]
  },
  {
   "cell_type": "code",
   "execution_count": 29,
   "metadata": {},
   "outputs": [],
   "source": [
    "sp500.index = pd.to_datetime(sp500.index)"
   ]
  },
  {
   "cell_type": "code",
   "execution_count": 30,
   "metadata": {},
   "outputs": [
    {
     "data": {
      "text/html": [
       "<div>\n",
       "<style scoped>\n",
       "    .dataframe tbody tr th:only-of-type {\n",
       "        vertical-align: middle;\n",
       "    }\n",
       "\n",
       "    .dataframe tbody tr th {\n",
       "        vertical-align: top;\n",
       "    }\n",
       "\n",
       "    .dataframe thead th {\n",
       "        text-align: right;\n",
       "    }\n",
       "</style>\n",
       "<table border=\"1\" class=\"dataframe\">\n",
       "  <thead>\n",
       "    <tr style=\"text-align: right;\">\n",
       "      <th></th>\n",
       "      <th>Open</th>\n",
       "      <th>High</th>\n",
       "      <th>Low</th>\n",
       "      <th>Close</th>\n",
       "      <th>Adj Close</th>\n",
       "      <th>Volume</th>\n",
       "    </tr>\n",
       "    <tr>\n",
       "      <th>Date</th>\n",
       "      <th></th>\n",
       "      <th></th>\n",
       "      <th></th>\n",
       "      <th></th>\n",
       "      <th></th>\n",
       "      <th></th>\n",
       "    </tr>\n",
       "  </thead>\n",
       "  <tbody>\n",
       "    <tr>\n",
       "      <th>1993-01-29</th>\n",
       "      <td>43.968750</td>\n",
       "      <td>43.968750</td>\n",
       "      <td>43.750000</td>\n",
       "      <td>43.937500</td>\n",
       "      <td>24.763733</td>\n",
       "      <td>1003200</td>\n",
       "    </tr>\n",
       "    <tr>\n",
       "      <th>1993-02-01</th>\n",
       "      <td>43.968750</td>\n",
       "      <td>44.250000</td>\n",
       "      <td>43.968750</td>\n",
       "      <td>44.250000</td>\n",
       "      <td>24.939850</td>\n",
       "      <td>480500</td>\n",
       "    </tr>\n",
       "    <tr>\n",
       "      <th>1993-02-02</th>\n",
       "      <td>44.218750</td>\n",
       "      <td>44.375000</td>\n",
       "      <td>44.125000</td>\n",
       "      <td>44.343750</td>\n",
       "      <td>24.992699</td>\n",
       "      <td>201300</td>\n",
       "    </tr>\n",
       "    <tr>\n",
       "      <th>1993-02-03</th>\n",
       "      <td>44.406250</td>\n",
       "      <td>44.843750</td>\n",
       "      <td>44.375000</td>\n",
       "      <td>44.812500</td>\n",
       "      <td>25.256901</td>\n",
       "      <td>529400</td>\n",
       "    </tr>\n",
       "    <tr>\n",
       "      <th>1993-02-04</th>\n",
       "      <td>44.968750</td>\n",
       "      <td>45.093750</td>\n",
       "      <td>44.468750</td>\n",
       "      <td>45.000000</td>\n",
       "      <td>25.362564</td>\n",
       "      <td>531500</td>\n",
       "    </tr>\n",
       "    <tr>\n",
       "      <th>...</th>\n",
       "      <td>...</td>\n",
       "      <td>...</td>\n",
       "      <td>...</td>\n",
       "      <td>...</td>\n",
       "      <td>...</td>\n",
       "      <td>...</td>\n",
       "    </tr>\n",
       "    <tr>\n",
       "      <th>2024-04-01</th>\n",
       "      <td>523.830017</td>\n",
       "      <td>524.380005</td>\n",
       "      <td>520.969971</td>\n",
       "      <td>522.159973</td>\n",
       "      <td>522.159973</td>\n",
       "      <td>62477500</td>\n",
       "    </tr>\n",
       "    <tr>\n",
       "      <th>2024-04-02</th>\n",
       "      <td>518.239990</td>\n",
       "      <td>518.979980</td>\n",
       "      <td>516.479980</td>\n",
       "      <td>518.840027</td>\n",
       "      <td>518.840027</td>\n",
       "      <td>74230300</td>\n",
       "    </tr>\n",
       "    <tr>\n",
       "      <th>2024-04-03</th>\n",
       "      <td>517.719971</td>\n",
       "      <td>520.950012</td>\n",
       "      <td>517.669983</td>\n",
       "      <td>519.409973</td>\n",
       "      <td>519.409973</td>\n",
       "      <td>59155800</td>\n",
       "    </tr>\n",
       "    <tr>\n",
       "      <th>2024-04-04</th>\n",
       "      <td>523.520020</td>\n",
       "      <td>523.869995</td>\n",
       "      <td>512.760010</td>\n",
       "      <td>513.070007</td>\n",
       "      <td>513.070007</td>\n",
       "      <td>96858100</td>\n",
       "    </tr>\n",
       "    <tr>\n",
       "      <th>2024-04-05</th>\n",
       "      <td>514.460022</td>\n",
       "      <td>520.440002</td>\n",
       "      <td>514.010010</td>\n",
       "      <td>518.429993</td>\n",
       "      <td>518.429993</td>\n",
       "      <td>74482100</td>\n",
       "    </tr>\n",
       "  </tbody>\n",
       "</table>\n",
       "<p>7852 rows × 6 columns</p>\n",
       "</div>"
      ],
      "text/plain": [
       "                  Open        High         Low       Close   Adj Close  \\\n",
       "Date                                                                     \n",
       "1993-01-29   43.968750   43.968750   43.750000   43.937500   24.763733   \n",
       "1993-02-01   43.968750   44.250000   43.968750   44.250000   24.939850   \n",
       "1993-02-02   44.218750   44.375000   44.125000   44.343750   24.992699   \n",
       "1993-02-03   44.406250   44.843750   44.375000   44.812500   25.256901   \n",
       "1993-02-04   44.968750   45.093750   44.468750   45.000000   25.362564   \n",
       "...                ...         ...         ...         ...         ...   \n",
       "2024-04-01  523.830017  524.380005  520.969971  522.159973  522.159973   \n",
       "2024-04-02  518.239990  518.979980  516.479980  518.840027  518.840027   \n",
       "2024-04-03  517.719971  520.950012  517.669983  519.409973  519.409973   \n",
       "2024-04-04  523.520020  523.869995  512.760010  513.070007  513.070007   \n",
       "2024-04-05  514.460022  520.440002  514.010010  518.429993  518.429993   \n",
       "\n",
       "              Volume  \n",
       "Date                  \n",
       "1993-01-29   1003200  \n",
       "1993-02-01    480500  \n",
       "1993-02-02    201300  \n",
       "1993-02-03    529400  \n",
       "1993-02-04    531500  \n",
       "...              ...  \n",
       "2024-04-01  62477500  \n",
       "2024-04-02  74230300  \n",
       "2024-04-03  59155800  \n",
       "2024-04-04  96858100  \n",
       "2024-04-05  74482100  \n",
       "\n",
       "[7852 rows x 6 columns]"
      ]
     },
     "execution_count": 30,
     "metadata": {},
     "output_type": "execute_result"
    }
   ],
   "source": [
    "sp500"
   ]
  },
  {
   "cell_type": "code",
   "execution_count": 31,
   "metadata": {},
   "outputs": [
    {
     "data": {
      "text/plain": [
       "<Axes: xlabel='Date'>"
      ]
     },
     "execution_count": 31,
     "metadata": {},
     "output_type": "execute_result"
    },
    {
     "data": {
      "image/png": "[encoded data removed]",
      "text/plain": [
       "<Figure size 640x480 with 1 Axes>"
      ]
     },
     "metadata": {},
     "output_type": "display_data"
    }
   ],
   "source": [
    "sp500.plot.line(y=\"Close\", use_index=True)"
   ]
  },
  {
   "cell_type": "code",
   "execution_count": 32,
   "metadata": {},
   "outputs": [],
   "source": [
    "sp500[\"Tomorrow\"] = sp500[\"Close\"].shift(-1)"
   ]
  },
  {
   "cell_type": "code",
   "execution_count": 33,
   "metadata": {},
   "outputs": [],
   "source": [
    "sp500[\"Target\"] = (sp500[\"Tomorrow\"] > sp500[\"Close\"]).astype(int)"
   ]
  },
  {
   "cell_type": "code",
   "execution_count": 34,
   "metadata": {},
   "outputs": [],
   "source": [
    "sp500 = sp500.loc[\"1990-01-01\":].copy()"
   ]
  },
  {
   "cell_type": "code",
   "execution_count": 35,
   "metadata": {},
   "outputs": [
    {
     "name": "stdout",
     "output_type": "stream",
     "text": [
      "7460\n"
     ]
    }
   ],
   "source": [
    "close_data = sp500.filter(['close'])\n",
    "dataset = close_data.values\n",
    "training = int(np.ceil(len(dataset) * .95))\n",
    "print(training)\n"
   ]
  },
  {
   "cell_type": "code",
   "execution_count": 36,
   "metadata": {},
   "outputs": [],
   "source": [
    "from sklearn.preprocessing import MinMaxScaler\n",
    "\n",
    "scaler = MinMaxScaler(feature_range=(0, 1))\n",
    "scaled_data = scaler.fit_transform(sp500)\n",
    "\n",
    "train_data = scaled_data[0:int(training), :]\n",
    "# prepare feature and labels\n",
    "x_train = []\n",
    "y_train = []\n",
    "\n",
    "for i in range(60, len(train_data)):\n",
    "\tx_train.append(train_data[i-60:i, 0])\n",
    "\ty_train.append(train_data[i, 0])\n",
    "\n",
    "x_train, y_train = np.array(x_train), np.array(y_train)\n",
    "x_train = np.reshape(x_train, (x_train.shape[0], x_train.shape[1], 1))\n"
   ]
  },
  {
   "cell_type": "code",
   "execution_count": 37,
   "metadata": {},
   "outputs": [],
   "source": [
    "### Create the Stacked LSTM model\n",
    "from tensorflow.keras.models import Sequential\n",
    "from tensorflow.keras.layers import Dense\n",
    "from tensorflow.keras.layers import LSTM"
   ]
  },
  {
   "cell_type": "code",
   "execution_count": 38,
   "metadata": {},
   "outputs": [
    {
     "data": {
      "text/plain": [
       "<bound method Model.summary of <keras.engine.sequential.Sequential object at 0x000001EDF0BD7F70>>"
      ]
     },
     "execution_count": 38,
     "metadata": {},
     "output_type": "execute_result"
    }
   ],
   "source": [
    "model = keras.models.Sequential()\n",
    "model.add(keras.layers.LSTM(units=64,\n",
    "\t\t\t\t\t\t\treturn_sequences=True,\n",
    "\t\t\t\t\t\t\tinput_shape=(x_train.shape[1], 1)))\n",
    "model.add(LSTM(50,return_sequences=True,input_shape=(100,1)))\n",
    "model.add(LSTM(50,return_sequences=True))\n",
    "model.add(LSTM(50))\n",
    "model.add(Dense(1))\n",
    "model.summary\n"
   ]
  },
  {
   "cell_type": "code",
   "execution_count": 44,
   "metadata": {},
   "outputs": [
    {
     "name": "stdout",
     "output_type": "stream",
     "text": [
      "Epoch 1/10\n",
      "232/232 [==============================] - 47s 135ms/step - loss: 1.5864e-04\n",
      "Epoch 2/10\n",
      "232/232 [==============================] - 32s 136ms/step - loss: 8.4227e-05\n",
      "Epoch 3/10\n",
      "232/232 [==============================] - 31s 135ms/step - loss: 9.2341e-05\n",
      "Epoch 4/10\n",
      "232/232 [==============================] - 31s 135ms/step - loss: 9.3270e-05\n",
      "Epoch 5/10\n",
      "232/232 [==============================] - 32s 139ms/step - loss: 7.8470e-05\n",
      "Epoch 6/10\n",
      "232/232 [==============================] - 32s 137ms/step - loss: 6.7416e-05\n",
      "Epoch 7/10\n",
      "232/232 [==============================] - 32s 138ms/step - loss: 5.9481e-05\n",
      "Epoch 8/10\n",
      "232/232 [==============================] - 31s 135ms/step - loss: 5.4134e-05\n",
      "Epoch 9/10\n",
      "232/232 [==============================] - 31s 135ms/step - loss: 4.4666e-05\n",
      "Epoch 10/10\n",
      "232/232 [==============================] - 31s 135ms/step - loss: 5.5825e-05\n"
     ]
    }
   ],
   "source": [
    "model.compile(optimizer='adam',\n",
    "\t\t\tloss='mean_squared_error')\n",
    "history = model.fit(x_train,\n",
    "\t\t\t\t\ty_train,\n",
    "\t\t\t\t\tepochs=10)\n"
   ]
  },
  {
   "cell_type": "code",
   "execution_count": 46,
   "metadata": {},
   "outputs": [
    {
     "name": "stdout",
     "output_type": "stream",
     "text": [
      "13/13 [==============================] - 1s 43ms/step\n",
      "MSE nan\n",
      "RMSE nan\n"
     ]
    }
   ],
   "source": [
    "test_data = scaled_data[training - 60:, :]\n",
    "x_test = []\n",
    "y_test = dataset[training:, :]\n",
    "for i in range(60, len(test_data)):\n",
    "    x_test.append(test_data[i - 60:i, 0])\n",
    "\n",
    "x_test = np.array(x_test)\n",
    "x_test = np.reshape(x_test, (x_test.shape[0], x_test.shape[1], 1))\n",
    "y_test_mean = np.mean(y_test[np.isfinite(y_test).all(axis=1)])\n",
    "\n",
    "# Replace missing values in y_test with mean\n",
    "y_test_filled = y_test.copy()\n",
    "y_test_filled[np.isnan(y_test_filled)] = y_test_mean\n",
    "y_test_filled[np.isinf(y_test_filled)] = y_test_mean\n",
    "# Predict the testing data\n",
    "predictions = model.predict(x_test)\n",
    "\n",
    "# Reshape predictions before inverse transformation\n",
    "predictions = np.reshape(predictions, (predictions.shape[0], 1))  # Fix the shape mismatch\n",
    "\n",
    "# Inverse transform predictions\n",
    "predictions = scaler.inverse_transform(predictions)\n",
    "\n",
    "# Evaluation metrics\n",
    "mse = np.mean(((predictions - y_test) ** 2))\n",
    "print(\"MSE\", mse)\n",
    "print(\"RMSE\", np.sqrt(mse))\n"
   ]
  },
  {
   "cell_type": "code",
   "execution_count": 47,
   "metadata": {},
   "outputs": [
    {
     "data": {
      "text/plain": [
       "<matplotlib.legend.Legend at 0x1ed86fcf7c0>"
      ]
     },
     "execution_count": 47,
     "metadata": {},
     "output_type": "execute_result"
    },
    {
     "data": {
      "image/png": "[encoded data removed]",
      "text/plain": [
       "<Figure size 1000x800 with 1 Axes>"
      ]
     },
     "metadata": {},
     "output_type": "display_data"
    }
   ],
   "source": [
    "train = sp500[:training]\n",
    "test = sp500[training:]\n",
    "test['Predictions'] = predictions\n",
    "\n",
    "plt.figure(figsize=(10, 8))\n",
    "plt.plot( train['Close'])\n",
    "plt.plot(test[['Close', 'Predictions']])\n",
    "plt.title('SPY Stock Close Price')\n",
    "plt.xlabel('Date')\n",
    "plt.ylabel(\"Close\")\n",
    "plt.legend(['Train', 'Test', 'Predictions'])\n"
   ]
  },
  {
   "cell_type": "code",
   "execution_count": null,
   "metadata": {},
   "outputs": [],
   "source": []
  }
 ],
 "metadata": {
  "kernelspec": {
   "display_name": "tf",
   "language": "python",
   "name": "python3"
  },
  "language_info": {
   "codemirror_mode": {
    "name": "ipython",
    "version": 3
   },
   "file_extension": ".py",
   "mimetype": "text/x-python",
   "name": "python",
   "nbconvert_exporter": "python",
   "pygments_lexer": "ipython3",
   "version": "3.10.13"
  }
 },
 "nbformat": 4,
 "nbformat_minor": 2
}
