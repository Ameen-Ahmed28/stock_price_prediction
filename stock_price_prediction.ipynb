{
 "cells": [
  {
   "cell_type": "code",
   "execution_count": 1,
   "metadata": {},
   "outputs": [],
   "source": [
    "import pandas as pd\n",
    "import matplotlib.pyplot as plt\n",
    "import numpy as np\n",
    "import tensorflow as tf\n",
    "from tensorflow import keras\n",
    "import seaborn as sns\n",
    "import os\n",
    "from datetime import datetime\n",
    "\n",
    "import warnings\n",
    "warnings.filterwarnings(\"ignore\")\n"
   ]
  },
  {
   "cell_type": "code",
   "execution_count": 2,
   "metadata": {},
   "outputs": [],
   "source": [
    "import yfinance as yf\n",
    "import pandas as pd"
   ]
  },
  {
   "cell_type": "code",
   "execution_count": 3,
   "metadata": {},
   "outputs": [
    {
     "name": "stdout",
     "output_type": "stream",
     "text": [
      "[*********************100%%**********************]  1 of 1 completed\n"
     ]
    }
   ],
   "source": [
    "sp500=yf.download('SPY')"
   ]
  },
  {
   "cell_type": "code",
   "execution_count": 4,
   "metadata": {},
   "outputs": [],
   "source": [
    "sp500.index = pd.to_datetime(sp500.index)"
   ]
  },
  {
   "cell_type": "code",
   "execution_count": 5,
   "metadata": {},
   "outputs": [
    {
     "data": {
      "text/html": [
       "<div>\n",
       "<style scoped>\n",
       "    .dataframe tbody tr th:only-of-type {\n",
       "        vertical-align: middle;\n",
       "    }\n",
       "\n",
       "    .dataframe tbody tr th {\n",
       "        vertical-align: top;\n",
       "    }\n",
       "\n",
       "    .dataframe thead th {\n",
       "        text-align: right;\n",
       "    }\n",
       "</style>\n",
       "<table border=\"1\" class=\"dataframe\">\n",
       "  <thead>\n",
       "    <tr style=\"text-align: right;\">\n",
       "      <th></th>\n",
       "      <th>Open</th>\n",
       "      <th>High</th>\n",
       "      <th>Low</th>\n",
       "      <th>Close</th>\n",
       "      <th>Adj Close</th>\n",
       "      <th>Volume</th>\n",
       "    </tr>\n",
       "    <tr>\n",
       "      <th>Date</th>\n",
       "      <th></th>\n",
       "      <th></th>\n",
       "      <th></th>\n",
       "      <th></th>\n",
       "      <th></th>\n",
       "      <th></th>\n",
       "    </tr>\n",
       "  </thead>\n",
       "  <tbody>\n",
       "    <tr>\n",
       "      <th>1993-01-29</th>\n",
       "      <td>43.968750</td>\n",
       "      <td>43.968750</td>\n",
       "      <td>43.750000</td>\n",
       "      <td>43.937500</td>\n",
       "      <td>24.608629</td>\n",
       "      <td>1003200</td>\n",
       "    </tr>\n",
       "    <tr>\n",
       "      <th>1993-02-01</th>\n",
       "      <td>43.968750</td>\n",
       "      <td>44.250000</td>\n",
       "      <td>43.968750</td>\n",
       "      <td>44.250000</td>\n",
       "      <td>24.783655</td>\n",
       "      <td>480500</td>\n",
       "    </tr>\n",
       "    <tr>\n",
       "      <th>1993-02-02</th>\n",
       "      <td>44.218750</td>\n",
       "      <td>44.375000</td>\n",
       "      <td>44.125000</td>\n",
       "      <td>44.343750</td>\n",
       "      <td>24.836163</td>\n",
       "      <td>201300</td>\n",
       "    </tr>\n",
       "    <tr>\n",
       "      <th>1993-02-03</th>\n",
       "      <td>44.406250</td>\n",
       "      <td>44.843750</td>\n",
       "      <td>44.375000</td>\n",
       "      <td>44.812500</td>\n",
       "      <td>25.098698</td>\n",
       "      <td>529400</td>\n",
       "    </tr>\n",
       "    <tr>\n",
       "      <th>1993-02-04</th>\n",
       "      <td>44.968750</td>\n",
       "      <td>45.093750</td>\n",
       "      <td>44.468750</td>\n",
       "      <td>45.000000</td>\n",
       "      <td>25.203705</td>\n",
       "      <td>531500</td>\n",
       "    </tr>\n",
       "    <tr>\n",
       "      <th>...</th>\n",
       "      <td>...</td>\n",
       "      <td>...</td>\n",
       "      <td>...</td>\n",
       "      <td>...</td>\n",
       "      <td>...</td>\n",
       "      <td>...</td>\n",
       "    </tr>\n",
       "    <tr>\n",
       "      <th>2024-10-21</th>\n",
       "      <td>583.849976</td>\n",
       "      <td>584.849976</td>\n",
       "      <td>580.599976</td>\n",
       "      <td>583.630005</td>\n",
       "      <td>583.630005</td>\n",
       "      <td>36439000</td>\n",
       "    </tr>\n",
       "    <tr>\n",
       "      <th>2024-10-22</th>\n",
       "      <td>581.049988</td>\n",
       "      <td>584.500000</td>\n",
       "      <td>580.380005</td>\n",
       "      <td>583.320007</td>\n",
       "      <td>583.320007</td>\n",
       "      <td>34183800</td>\n",
       "    </tr>\n",
       "    <tr>\n",
       "      <th>2024-10-23</th>\n",
       "      <td>581.260010</td>\n",
       "      <td>581.710022</td>\n",
       "      <td>574.419983</td>\n",
       "      <td>577.989990</td>\n",
       "      <td>577.989990</td>\n",
       "      <td>49314600</td>\n",
       "    </tr>\n",
       "    <tr>\n",
       "      <th>2024-10-24</th>\n",
       "      <td>579.979980</td>\n",
       "      <td>580.059998</td>\n",
       "      <td>576.570007</td>\n",
       "      <td>579.239990</td>\n",
       "      <td>579.239990</td>\n",
       "      <td>34979900</td>\n",
       "    </tr>\n",
       "    <tr>\n",
       "      <th>2024-10-25</th>\n",
       "      <td>581.510010</td>\n",
       "      <td>584.460022</td>\n",
       "      <td>578.080017</td>\n",
       "      <td>579.039978</td>\n",
       "      <td>579.039978</td>\n",
       "      <td>47105000</td>\n",
       "    </tr>\n",
       "  </tbody>\n",
       "</table>\n",
       "<p>7993 rows × 6 columns</p>\n",
       "</div>"
      ],
      "text/plain": [
       "                  Open        High         Low       Close   Adj Close  \\\n",
       "Date                                                                     \n",
       "1993-01-29   43.968750   43.968750   43.750000   43.937500   24.608629   \n",
       "1993-02-01   43.968750   44.250000   43.968750   44.250000   24.783655   \n",
       "1993-02-02   44.218750   44.375000   44.125000   44.343750   24.836163   \n",
       "1993-02-03   44.406250   44.843750   44.375000   44.812500   25.098698   \n",
       "1993-02-04   44.968750   45.093750   44.468750   45.000000   25.203705   \n",
       "...                ...         ...         ...         ...         ...   \n",
       "2024-10-21  583.849976  584.849976  580.599976  583.630005  583.630005   \n",
       "2024-10-22  581.049988  584.500000  580.380005  583.320007  583.320007   \n",
       "2024-10-23  581.260010  581.710022  574.419983  577.989990  577.989990   \n",
       "2024-10-24  579.979980  580.059998  576.570007  579.239990  579.239990   \n",
       "2024-10-25  581.510010  584.460022  578.080017  579.039978  579.039978   \n",
       "\n",
       "              Volume  \n",
       "Date                  \n",
       "1993-01-29   1003200  \n",
       "1993-02-01    480500  \n",
       "1993-02-02    201300  \n",
       "1993-02-03    529400  \n",
       "1993-02-04    531500  \n",
       "...              ...  \n",
       "2024-10-21  36439000  \n",
       "2024-10-22  34183800  \n",
       "2024-10-23  49314600  \n",
       "2024-10-24  34979900  \n",
       "2024-10-25  47105000  \n",
       "\n",
       "[7993 rows x 6 columns]"
      ]
     },
     "execution_count": 5,
     "metadata": {},
     "output_type": "execute_result"
    }
   ],
   "source": [
    "sp500"
   ]
  },
  {
   "cell_type": "code",
   "execution_count": 6,
   "metadata": {},
   "outputs": [
    {
     "data": {
      "text/plain": [
       "<Axes: xlabel='Date'>"
      ]
     },
     "execution_count": 6,
     "metadata": {},
     "output_type": "execute_result"
    },
    {
     "data": {
      "image/png": "[encoded data removed]",
      "text/plain": [
       "<Figure size 640x480 with 1 Axes>"
      ]
     },
     "metadata": {},
     "output_type": "display_data"
    }
   ],
   "source": [
    "sp500.plot.line(y=\"Close\", use_index=True)"
   ]
  },
  {
   "cell_type": "code",
   "execution_count": 7,
   "metadata": {},
   "outputs": [],
   "source": [
    "sp500[\"Tomorrow\"] = sp500[\"Close\"].shift(-1)"
   ]
  },
  {
   "cell_type": "code",
   "execution_count": 8,
   "metadata": {},
   "outputs": [],
   "source": [
    "sp500[\"Target\"] = (sp500[\"Tomorrow\"] > sp500[\"Close\"]).astype(int)"
   ]
  },
  {
   "cell_type": "code",
   "execution_count": 9,
   "metadata": {},
   "outputs": [],
   "source": [
    "sp500 = sp500.loc[\"1990-01-01\":].copy()"
   ]
  },
  {
   "cell_type": "code",
   "execution_count": 10,
   "metadata": {},
   "outputs": [
    {
     "name": "stdout",
     "output_type": "stream",
     "text": [
      "7594\n"
     ]
    }
   ],
   "source": [
    "close_data = sp500.filter(['close'])\n",
    "dataset = close_data.values\n",
    "training = int(np.ceil(len(dataset) * .95))\n",
    "print(training)\n"
   ]
  },
  {
   "cell_type": "code",
   "execution_count": 11,
   "metadata": {},
   "outputs": [],
   "source": [
    "from sklearn.preprocessing import MinMaxScaler\n",
    "\n",
    "scaler = MinMaxScaler(feature_range=(0, 1))\n",
    "scaled_data = scaler.fit_transform(sp500)\n",
    "\n",
    "train_data = scaled_data[0:int(training), :]\n",
    "# prepare feature and labels\n",
    "x_train = []\n",
    "y_train = []\n",
    "\n",
    "for i in range(60, len(train_data)):\n",
    "\tx_train.append(train_data[i-60:i, 0])\n",
    "\ty_train.append(train_data[i, 0])\n",
    "\n",
    "x_train, y_train = np.array(x_train), np.array(y_train)\n",
    "x_train = np.reshape(x_train, (x_train.shape[0], x_train.shape[1], 1))\n"
   ]
  },
  {
   "cell_type": "code",
   "execution_count": 12,
   "metadata": {},
   "outputs": [],
   "source": [
    "### Create the Stacked LSTM model\n",
    "from tensorflow.keras.models import Sequential\n",
    "from tensorflow.keras.layers import Dense\n",
    "from tensorflow.keras.layers import LSTM"
   ]
  },
  {
   "cell_type": "code",
   "execution_count": 13,
   "metadata": {},
   "outputs": [
    {
     "data": {
      "text/plain": [
       "<bound method Model.summary of <keras.engine.sequential.Sequential object at 0x0000020152617B80>>"
      ]
     },
     "execution_count": 13,
     "metadata": {},
     "output_type": "execute_result"
    }
   ],
   "source": [
    "model = keras.models.Sequential()\n",
    "model.add(keras.layers.LSTM(units=64,\n",
    "\t\t\t\t\t\t\treturn_sequences=True,\n",
    "\t\t\t\t\t\t\tinput_shape=(x_train.shape[1], 1)))\n",
    "model.add(LSTM(50,return_sequences=True,input_shape=(100,1)))\n",
    "model.add(LSTM(50,return_sequences=True))\n",
    "model.add(LSTM(50))\n",
    "model.add(Dense(1))\n",
    "model.summary\n"
   ]
  },
  {
   "cell_type": "code",
   "execution_count": 14,
   "metadata": {},
   "outputs": [
    {
     "name": "stdout",
     "output_type": "stream",
     "text": [
      "Epoch 1/10\n",
      "236/236 [==============================] - 52s 148ms/step - loss: 0.0020\n",
      "Epoch 2/10\n",
      "236/236 [==============================] - 35s 146ms/step - loss: 1.7792e-04\n",
      "Epoch 3/10\n",
      "236/236 [==============================] - 36s 151ms/step - loss: 1.6268e-04\n",
      "Epoch 4/10\n",
      "236/236 [==============================] - 33s 138ms/step - loss: 1.6744e-04\n",
      "Epoch 5/10\n",
      "236/236 [==============================] - 33s 140ms/step - loss: 1.2786e-04\n",
      "Epoch 6/10\n",
      "236/236 [==============================] - 34s 143ms/step - loss: 1.1320e-04\n",
      "Epoch 7/10\n",
      "236/236 [==============================] - 33s 139ms/step - loss: 9.2344e-05\n",
      "Epoch 8/10\n",
      "236/236 [==============================] - 35s 149ms/step - loss: 8.7955e-05\n",
      "Epoch 9/10\n",
      "236/236 [==============================] - 37s 155ms/step - loss: 1.3454e-04\n",
      "Epoch 10/10\n",
      "236/236 [==============================] - 36s 152ms/step - loss: 8.4188e-05\n"
     ]
    }
   ],
   "source": [
    "model.compile(optimizer='adam',\n",
    "\t\t\tloss='mean_squared_error')\n",
    "history = model.fit(x_train,\n",
    "\t\t\t\t\ty_train,\n",
    "\t\t\t\t\tepochs=10)\n"
   ]
  },
  {
   "cell_type": "code",
   "execution_count": 19,
   "metadata": {},
   "outputs": [
    {
     "name": "stdout",
     "output_type": "stream",
     "text": [
      "13/13 [==============================] - 1s 42ms/step\n"
     ]
    }
   ],
   "source": [
    "# Fit the scaler on the 'Close' column only\n",
    "close_data = sp500[['Close']]  # Select only the Close column for scaling\n",
    "scaler = MinMaxScaler(feature_range=(0, 1))\n",
    "scaled_data = scaler.fit_transform(close_data)\n",
    "\n",
    "# Proceed with your existing code after this point\n",
    "# Ensure any `inverse_transform` calls only apply to predictions in the Close column context\n",
    "\n",
    "# Example for predictions:\n",
    "predictions = model.predict(x_test)\n",
    "if len(predictions.shape) == 1:\n",
    "    predictions = predictions.reshape(-1, 1)  # Ensure predictions have the correct shape\n",
    "\n",
    "# Inverse transform\n",
    "predictions = scaler.inverse_transform(predictions)  # This should now work without error\n"
   ]
  },
  {
   "cell_type": "code",
   "execution_count": 27,
   "metadata": {},
   "outputs": [
    {
     "name": "stdout",
     "output_type": "stream",
     "text": [
      "13/13 [==============================] - 1s 53ms/step\n",
      "MSE nan\n",
      "RMSE nan\n"
     ]
    }
   ],
   "source": [
    "test_data = scaled_data[training - 60:, :]\n",
    "x_test = []\n",
    "y_test = dataset[training:, :]\n",
    "for i in range(60, len(test_data)):\n",
    "    x_test.append(test_data[i - 60:i, 0])\n",
    "\n",
    "x_test = np.array(x_test)\n",
    "x_test = np.reshape(x_test, (x_test.shape[0], x_test.shape[1], 1))\n",
    "y_test_mean = np.mean(y_test[np.isfinite(y_test).all(axis=1)])\n",
    "\n",
    "# Replace missing values in y_test with mean\n",
    "y_test_filled = y_test.copy()\n",
    "y_test_filled[np.isnan(y_test_filled)] = y_test_mean\n",
    "y_test_filled[np.isinf(y_test_filled)] = y_test_mean\n",
    "# Predict the testing data\n",
    "predictions = model.predict(x_test)\n",
    "\n",
    "# Reshape predictions before inverse transformation\n",
    "predictions = np.reshape(predictions, (predictions.shape[0], 1))  # Fix the shape mismatch\n",
    "\n",
    "# Inverse transform predictions\n",
    "predictions = scaler.inverse_transform(predictions)\n",
    "\n",
    "# Evaluation metrics\n",
    "mse = np.mean(((predictions - y_test) ** 2))\n",
    "print(\"MSE\", mse)\n",
    "print(\"RMSE\", np.sqrt(mse))\n"
   ]
  },
  {
   "cell_type": "code",
   "execution_count": 28,
   "metadata": {},
   "outputs": [
    {
     "data": {
      "text/plain": [
       "<matplotlib.legend.Legend at 0x201633b7280>"
      ]
     },
     "execution_count": 28,
     "metadata": {},
     "output_type": "execute_result"
    },
    {
     "data": {
      "image/png": "[encoded data removed]",
      "text/plain": [
       "<Figure size 1000x800 with 1 Axes>"
      ]
     },
     "metadata": {},
     "output_type": "display_data"
    }
   ],
   "source": [
    "train = sp500[:training]\n",
    "test = sp500[training:]\n",
    "test['Predictions'] = predictions\n",
    "\n",
    "plt.figure(figsize=(10, 8))\n",
    "plt.plot( train['Close'])\n",
    "plt.plot(test[['Close', 'Predictions']])\n",
    "plt.title('SPY Stock Close Price')\n",
    "plt.xlabel('Date')\n",
    "plt.ylabel(\"Close\")\n",
    "plt.legend(['Train', 'Test', 'Predictions'])\n"
   ]
  }
 ],
 "metadata": {
  "kernelspec": {
   "display_name": "tf",
   "language": "python",
   "name": "python3"
  },
  "language_info": {
   "codemirror_mode": {
    "name": "ipython",
    "version": 3
   },
   "file_extension": ".py",
   "mimetype": "text/x-python",
   "name": "python",
   "nbconvert_exporter": "python",
   "pygments_lexer": "ipython3",
   "version": "3.10.13"
  }
 },
 "nbformat": 4,
 "nbformat_minor": 2
}
